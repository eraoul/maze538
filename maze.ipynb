{
 "cells": [
  {
   "cell_type": "code",
   "execution_count": 82,
   "metadata": {},
   "outputs": [],
   "source": [
    "from __future__ import annotations\n",
    "\n",
    "from dataclasses import dataclass\n",
    "import sys\n",
    "from typing import Dict, List"
   ]
  },
  {
   "cell_type": "code",
   "execution_count": 24,
   "metadata": {},
   "outputs": [],
   "source": [
    "@dataclass\n",
    "class Node:\n",
    "    value: str\n",
    "    x: int\n",
    "    y: int\n",
    "    prev_node: Node\n",
    "    next_node: Node"
   ]
  },
  {
   "cell_type": "code",
   "execution_count": 25,
   "metadata": {},
   "outputs": [],
   "source": [
    "@dataclass\n",
    "class Graph:\n",
    "    nodes: list\n",
    "    start_nodes: list\n",
    "    end_nodes: list\n",
    "\n",
    "    def __post_init__(self):\n",
    "        print('Creating a new graph.')"
   ]
  },
  {
   "cell_type": "code",
   "execution_count": 235,
   "metadata": {},
   "outputs": [],
   "source": [
    "class Maze():\n",
    "\n",
    "    # key: prev_dir. Value: dict of square value to new dir\n",
    "    ACTIONS = {'N': {'S': 'N',\n",
    "                     'U': 'S',\n",
    "                     'R': 'E',\n",
    "                     'L': 'W'},\n",
    "               'E': {'S': 'E',\n",
    "                     'U': 'W',\n",
    "                     'R': 'S',\n",
    "                     'L': 'N'},\n",
    "               'S': {'S': 'S',\n",
    "                     'U': 'N',\n",
    "                     'R': 'W',\n",
    "                     'L': 'E'},\n",
    "               'W': {'S': 'W',\n",
    "                     'U': 'E',\n",
    "                     'R': 'N',\n",
    "                     'L': 'S'},\n",
    "              }\n",
    "    \n",
    "    MOVES = {'N': (0, -1),\n",
    "             'S': (0, 1),\n",
    "             'E': (1, 0),\n",
    "             'W': (-1, 0)\n",
    "            }\n",
    "    \n",
    "#     def build_state_graph(self):\n",
    "#         \"\"\"Returns a graph.\"\"\"\n",
    "#         nodes = []\n",
    "#         start_nodes = []\n",
    "#         end_nodes = []\n",
    "                \n",
    "        \n",
    "#         for y, row in enumerate(self.squares):\n",
    "#             for x, c in enumerate(row):\n",
    "#                 node = Node(c, x, y, None, None)\n",
    "#                 nodes.append(node)\n",
    "        \n",
    "#         graph = Graph(nodes, start_nodes, end_nodes)\n",
    "    \n",
    "#         return graph\n",
    "    \n",
    "    \n",
    "    def __init__(self, squares):\n",
    "        \"\"\"squares is a list of lists of chars\"\"\"\n",
    "        self.squares = squares\n",
    "        #self.graph = self.build_state_graph()\n",
    "        \n",
    "        self.height = len(self.squares)\n",
    "        self.width = len(self.squares[0])\n",
    "        \n",
    "        print(f'Created maze: {self.squares}')\n",
    "        \n",
    "    def next_coord(self, x, y, move):\n",
    "        \"\"\"move is a tuple of (x_delta, y_delta)\n",
    "        \n",
    "        returns (x, y) of new coord, or None if out of bounds.\n",
    "        \"\"\"\n",
    "        new_x, new_y = x + move[0], y+move[1]\n",
    "        if new_x < 0 or new_x >= self.width or new_y < 0 or new_y >= self.height:\n",
    "            return None\n",
    "        return new_x, new_y\n",
    "        \n",
    "        \n",
    "    def steps_to_exit(self, x, y, prev_dir):\n",
    "        \"\"\"Returns the # of steps to get from here to the exit '!'. If we reach \"X\", returns -1.\n",
    "        \n",
    "        x, y are the coords of the current square.\n",
    "        prev_dir is a char, N, S, E, or W, giving direction we went to enter this square.\"\"\"\n",
    "        \n",
    "        args = (x, y, prev_dir)\n",
    "        if args in self.visited:\n",
    "            return -1, []\n",
    "        self.visited.add(args)\n",
    "        \n",
    "        cur_sq = self.squares[y][x]\n",
    "        coord_list = [(x, y)]\n",
    "        if cur_sq == '!':\n",
    "            return 0, coord_list\n",
    "        if cur_sq == 'X':\n",
    "            return -1, None\n",
    "        if cur_sq == '?':\n",
    "            # Evaluate all directions.\n",
    "            action_list = ['N', 'S', 'E', 'W']\n",
    "        else:\n",
    "            action_list = [self.ACTIONS[prev_dir][cur_sq]]\n",
    "\n",
    "        best_steps = sys.maxsize\n",
    "        path = None\n",
    "        for action in action_list:\n",
    "            move = self.MOVES[action]\n",
    "            next_sq = self.next_coord(x, y, move)\n",
    "            if not next_sq:\n",
    "                continue\n",
    "            num_steps, path = self.steps_to_exit(next_sq[0], next_sq[1], action)\n",
    "            \n",
    "            if num_steps == -1:\n",
    "                continue\n",
    "            \n",
    "            best_steps = min(best_steps, num_steps+1)\n",
    "        if path:\n",
    "            return best_steps, coord_list + path\n",
    "        return -1, None\n",
    "    \n",
    "    def try_entrance(self, x, y, prev_dir):\n",
    "        self.visited = set()\n",
    "        num_steps, path = self.steps_to_exit(x, y, prev_dir)\n",
    "        if num_steps > -1:\n",
    "            print(f'Found soln! x={x}, y={y}, steps={num_steps}, path={path}')\n",
    "            return True\n",
    "        return False\n",
    "    \n",
    "    def solve_maze(self):\n",
    "        \"\"\"Try all entrances.\"\"\"\n",
    "        height = self.height\n",
    "        width = self.width\n",
    "        \n",
    "        # Try all entrances from top going S and from bottom going N.\n",
    "        for x in range(width):\n",
    "            print(f'from top: x={x}')\n",
    "            if self.try_entrance(x, 0, 'S'):\n",
    "                print(\"yay\")\n",
    "            print('from bottom')\n",
    "            if self.try_entrance(x, height - 1, 'N'):\n",
    "                print(\"yay\")\n",
    "            \n",
    "        # Try all from left going E and from right going W\n",
    "        for y in range(height):\n",
    "            print(f'from left: y={y}')\n",
    "            if self.try_entrance(0, y, 'E'):\n",
    "                print(\"yay\")\n",
    "            print('from right')\n",
    "            if self.try_entrance(width - 1, y, 'W'):\n",
    "                print(\"yay\")\n",
    "        print('No solution')\n",
    "        return False\n",
    "            "
   ]
  },
  {
   "cell_type": "code",
   "execution_count": 245,
   "metadata": {},
   "outputs": [],
   "source": [
    "squares_str = ['LUU?ULXL', \n",
    "               'RLRLU!UU',\n",
    "               'SLRLULXR',\n",
    "               'UR?RSL?R',\n",
    "               'RUURRRSL',   #RSL at end\n",
    "               'S?SLSSLR',\n",
    "               'RLR?RL?L',\n",
    "               'LRSRSLRL'\n",
    "              ]\n",
    "squares = [[c for c in s] for s in squares_str]"
   ]
  },
  {
   "cell_type": "code",
   "execution_count": 246,
   "metadata": {},
   "outputs": [
    {
     "data": {
      "text/plain": [
       "[['L', 'U', 'U', '?', 'U', 'L', 'X', 'L'],\n",
       " ['R', 'L', 'R', 'L', 'U', '!', 'U', 'U'],\n",
       " ['S', 'L', 'R', 'L', 'U', 'L', 'X', 'R'],\n",
       " ['U', 'R', '?', 'R', 'S', 'L', '?', 'R'],\n",
       " ['R', 'U', 'U', 'R', 'R', 'R', 'S', 'L'],\n",
       " ['S', '?', 'S', 'L', 'S', 'S', 'L', 'R'],\n",
       " ['R', 'L', 'R', '?', 'R', 'L', '?', 'L'],\n",
       " ['L', 'R', 'S', 'R', 'S', 'L', 'R', 'L']]"
      ]
     },
     "execution_count": 246,
     "metadata": {},
     "output_type": "execute_result"
    }
   ],
   "source": [
    "squares"
   ]
  },
  {
   "cell_type": "code",
   "execution_count": 247,
   "metadata": {},
   "outputs": [
    {
     "name": "stdout",
     "output_type": "stream",
     "text": [
      "Created maze: [['L', 'U', 'U', '?', 'U', 'L', 'X', 'L'], ['R', 'L', 'R', 'L', 'U', '!', 'U', 'U'], ['S', 'L', 'R', 'L', 'U', 'L', 'X', 'R'], ['U', 'R', '?', 'R', 'S', 'L', '?', 'R'], ['R', 'U', 'U', 'R', 'R', 'R', 'S', 'L'], ['S', '?', 'S', 'L', 'S', 'S', 'L', 'R'], ['R', 'L', 'R', '?', 'R', 'L', '?', 'L'], ['L', 'R', 'S', 'R', 'S', 'L', 'R', 'L']]\n"
     ]
    }
   ],
   "source": [
    "maze = Maze(squares)"
   ]
  },
  {
   "cell_type": "code",
   "execution_count": 248,
   "metadata": {},
   "outputs": [
    {
     "name": "stdout",
     "output_type": "stream",
     "text": [
      "from top: x=0\n",
      "from bottom\n",
      "from top: x=1\n",
      "from bottom\n",
      "from top: x=2\n",
      "from bottom\n",
      "from top: x=3\n",
      "from bottom\n",
      "from top: x=4\n",
      "from bottom\n",
      "from top: x=5\n",
      "from bottom\n",
      "from top: x=6\n",
      "from bottom\n",
      "from top: x=7\n",
      "from bottom\n",
      "from left: y=0\n",
      "from right\n",
      "from left: y=1\n",
      "from right\n",
      "from left: y=2\n",
      "from right\n",
      "from left: y=3\n",
      "from right\n",
      "from left: y=4\n",
      "from right\n",
      "from left: y=5\n",
      "from right\n",
      "from left: y=6\n",
      "from right\n",
      "from left: y=7\n",
      "from right\n",
      "No solution\n"
     ]
    },
    {
     "data": {
      "text/plain": [
       "False"
      ]
     },
     "execution_count": 248,
     "metadata": {},
     "output_type": "execute_result"
    }
   ],
   "source": [
    "maze.solve_maze()"
   ]
  },
  {
   "cell_type": "code",
   "execution_count": 249,
   "metadata": {},
   "outputs": [
    {
     "data": {
      "text/plain": [
       "{(7, 7, 'W')}"
      ]
     },
     "execution_count": 249,
     "metadata": {},
     "output_type": "execute_result"
    }
   ],
   "source": [
    "maze.visited"
   ]
  },
  {
   "cell_type": "code",
   "execution_count": null,
   "metadata": {},
   "outputs": [],
   "source": []
  },
  {
   "cell_type": "code",
   "execution_count": null,
   "metadata": {},
   "outputs": [],
   "source": []
  }
 ],
 "metadata": {
  "kernelspec": {
   "display_name": "Python 3",
   "language": "python",
   "name": "python3"
  },
  "language_info": {
   "codemirror_mode": {
    "name": "ipython",
    "version": 3
   },
   "file_extension": ".py",
   "mimetype": "text/x-python",
   "name": "python",
   "nbconvert_exporter": "python",
   "pygments_lexer": "ipython3",
   "version": "3.7.2"
  }
 },
 "nbformat": 4,
 "nbformat_minor": 2
}
