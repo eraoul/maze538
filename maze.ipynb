{
 "cells": [
  {
   "cell_type": "markdown",
   "metadata": {},
   "source": [
    "# Maze without Walls\n",
    "\n",
    "Solution to puzzle from https://fivethirtyeight.com/features/can-you-escape-a-maze-without-walls/\n"
   ]
  },
  {
   "cell_type": "code",
   "execution_count": 1,
   "metadata": {},
   "outputs": [],
   "source": [
    "import sys"
   ]
  },
  {
   "cell_type": "code",
   "execution_count": 2,
   "metadata": {},
   "outputs": [],
   "source": [
    "class Maze():\n",
    "\n",
    "    # key: prev_dir. Value: dict of square value to new dir\n",
    "    ACTIONS = {'N': {'S': 'N',\n",
    "                     'U': 'S',\n",
    "                     'R': 'E',\n",
    "                     'L': 'W'},\n",
    "               'E': {'S': 'E',\n",
    "                     'U': 'W',\n",
    "                     'R': 'S',\n",
    "                     'L': 'N'},\n",
    "               'S': {'S': 'S',\n",
    "                     'U': 'N',\n",
    "                     'R': 'W',\n",
    "                     'L': 'E'},\n",
    "               'W': {'S': 'W',\n",
    "                     'U': 'E',\n",
    "                     'R': 'N',\n",
    "                     'L': 'S'},\n",
    "              }\n",
    "    \n",
    "    MOVES = {'N': (0, -1),\n",
    "             'S': (0, 1),\n",
    "             'E': (1, 0),\n",
    "             'W': (-1, 0)\n",
    "            }\n",
    "    \n",
    "    def __init__(self, squares):\n",
    "        \"\"\"squares is a list of lists of chars\"\"\"\n",
    "        self.squares = squares\n",
    "        self.height = len(self.squares)\n",
    "        self.width = len(self.squares[0])\n",
    "        \n",
    "    def next_coord(self, x, y, move):\n",
    "        \"\"\"move is a tuple of (x_delta, y_delta)\n",
    "        \n",
    "        returns (x, y) of new coord, or None if out of bounds.\n",
    "        \"\"\"\n",
    "        new_x, new_y = x + move[0], y+move[1]\n",
    "        if new_x < 0 or new_x >= self.width or new_y < 0 or new_y >= self.height:\n",
    "            return None\n",
    "        return new_x, new_y\n",
    "        \n",
    "        \n",
    "    def steps_to_exit(self, x, y, prev_dir):\n",
    "        \"\"\"Returns tuple of the # of steps to get from here to the exit '!', \n",
    "        and a list of the coordinates along the path. \n",
    "        \n",
    "        If we reach \"X\", returns (-1, None).\n",
    "        \n",
    "        x, y are the coords of the current square.\n",
    "        \n",
    "        prev_dir is a char ('N', 'S', 'E', or 'W'), giving direction we went to \n",
    "        enter this square.\"\"\"\n",
    "        args = (x, y, prev_dir)\n",
    "        if args in self.visited:\n",
    "            return -1, []\n",
    "        self.visited.add(args)\n",
    "        \n",
    "        cur_sq = self.squares[y][x]\n",
    "        coord_list = [(x, y)]\n",
    "        if cur_sq == '!':    # Represent smiley face as \"!\"\n",
    "            return 0, coord_list\n",
    "        if cur_sq == 'X':\n",
    "            return -1, None\n",
    "        if cur_sq == '?':\n",
    "            # Evaluate all directions.\n",
    "            action_list = ['N', 'S', 'E', 'W']\n",
    "        else:\n",
    "            action_list = [self.ACTIONS[prev_dir][cur_sq]]\n",
    "\n",
    "        best_steps = sys.maxsize\n",
    "        path = None\n",
    "        for action in action_list:\n",
    "            move = self.MOVES[action]\n",
    "            next_sq = self.next_coord(x, y, move)\n",
    "            if not next_sq:\n",
    "                continue\n",
    "            num_steps, path = self.steps_to_exit(next_sq[0], next_sq[1], action)\n",
    "            \n",
    "            if num_steps == -1:\n",
    "                continue\n",
    "            \n",
    "            best_steps = min(best_steps, num_steps+1)\n",
    "        if path:\n",
    "            return best_steps, coord_list + path\n",
    "        return -1, None\n",
    "    \n",
    "    def try_entrance(self, x, y, prev_dir):\n",
    "        self.visited = set()\n",
    "        num_steps, path = self.steps_to_exit(x, y, prev_dir)\n",
    "        if num_steps > -1:\n",
    "            print(f'Found soln! x={x}, y={y}, steps={num_steps}, path={path}')\n",
    "            return True\n",
    "        return False\n",
    "    \n",
    "    def solve_maze(self):\n",
    "        \"\"\"Try all entrances.\"\"\"\n",
    "        height = self.height\n",
    "        width = self.width\n",
    "        \n",
    "        solved = False\n",
    "        \n",
    "        # Try all entrances from top going S and from bottom going N.\n",
    "        for x in range(width):\n",
    "            if self.try_entrance(x, 0, 'S'):\n",
    "                solved = True\n",
    "            if self.try_entrance(x, height - 1, 'N'):\n",
    "                solved = True\n",
    "            \n",
    "        # Try all from left going E and from right going W\n",
    "        for y in range(height):\n",
    "            if self.try_entrance(0, y, 'E'):\n",
    "                solved = True\n",
    "            if self.try_entrance(width - 1, y, 'W'):\n",
    "                solved = True\n",
    "                \n",
    "        return solved            "
   ]
  },
  {
   "cell_type": "code",
   "execution_count": 3,
   "metadata": {},
   "outputs": [],
   "source": [
    "squares_str = ['LUU?ULXL', \n",
    "               'RLRLU!UU',  # Represent smiley face as \"!\"\n",
    "               'SLRLULXR',\n",
    "               'UR?RSL?R',\n",
    "               'RUURRRSL',\n",
    "               'S?SLSSLR',\n",
    "               'RLR?RL?L',\n",
    "               'LRSRSLRL'\n",
    "              ]\n",
    "squares = [[c for c in s] for s in squares_str]"
   ]
  },
  {
   "cell_type": "code",
   "execution_count": 4,
   "metadata": {},
   "outputs": [
    {
     "data": {
      "text/plain": [
       "[['L', 'U', 'U', '?', 'U', 'L', 'X', 'L'],\n",
       " ['R', 'L', 'R', 'L', 'U', '!', 'U', 'U'],\n",
       " ['S', 'L', 'R', 'L', 'U', 'L', 'X', 'R'],\n",
       " ['U', 'R', '?', 'R', 'S', 'L', '?', 'R'],\n",
       " ['R', 'U', 'U', 'R', 'R', 'R', 'S', 'L'],\n",
       " ['S', '?', 'S', 'L', 'S', 'S', 'L', 'R'],\n",
       " ['R', 'L', 'R', '?', 'R', 'L', '?', 'L'],\n",
       " ['L', 'R', 'S', 'R', 'S', 'L', 'R', 'L']]"
      ]
     },
     "execution_count": 4,
     "metadata": {},
     "output_type": "execute_result"
    }
   ],
   "source": [
    "squares"
   ]
  },
  {
   "cell_type": "code",
   "execution_count": 5,
   "metadata": {},
   "outputs": [],
   "source": [
    "maze = Maze(squares)"
   ]
  },
  {
   "cell_type": "code",
   "execution_count": 6,
   "metadata": {},
   "outputs": [
    {
     "data": {
      "text/plain": [
       "False"
      ]
     },
     "execution_count": 6,
     "metadata": {},
     "output_type": "execute_result"
    }
   ],
   "source": [
    "maze.solve_maze()"
   ]
  },
  {
   "cell_type": "markdown",
   "metadata": {},
   "source": [
    "### So there is no solution. \n",
    "However, if we add an additional \"!\" at x=5, y=4 (0-based coordinates) then there are 3 solutions."
   ]
  },
  {
   "cell_type": "code",
   "execution_count": 7,
   "metadata": {},
   "outputs": [],
   "source": [
    "squares_str = ['LUU?ULXL', \n",
    "               'RLRLU!UU',\n",
    "               'SLRLULXR',\n",
    "               'UR?RSL?R',\n",
    "               'RUURR!SL',\n",
    "               'S?SLSSLR',\n",
    "               'RLR?RL?L',\n",
    "               'LRSRSLRL'\n",
    "              ]\n",
    "squares = [[c for c in s] for s in squares_str]\n",
    "maze = Maze(squares)"
   ]
  },
  {
   "cell_type": "code",
   "execution_count": 8,
   "metadata": {},
   "outputs": [
    {
     "name": "stdout",
     "output_type": "stream",
     "text": [
      "Found soln! x=3, y=7, steps=7, path=[(3, 7), (4, 7), (5, 7), (5, 6), (4, 6), (4, 5), (4, 4), (5, 4)]\n",
      "Found soln! x=4, y=7, steps=4, path=[(4, 7), (4, 6), (5, 6), (5, 5), (5, 4)]\n",
      "Found soln! x=7, y=5, steps=3, path=[(7, 5), (7, 4), (6, 4), (5, 4)]\n"
     ]
    },
    {
     "data": {
      "text/plain": [
       "True"
      ]
     },
     "execution_count": 8,
     "metadata": {},
     "output_type": "execute_result"
    }
   ],
   "source": [
    "maze.solve_maze()"
   ]
  },
  {
   "cell_type": "code",
   "execution_count": null,
   "metadata": {},
   "outputs": [],
   "source": []
  }
 ],
 "metadata": {
  "kernelspec": {
   "display_name": "Python 3",
   "language": "python",
   "name": "python3"
  },
  "language_info": {
   "codemirror_mode": {
    "name": "ipython",
    "version": 3
   },
   "file_extension": ".py",
   "mimetype": "text/x-python",
   "name": "python",
   "nbconvert_exporter": "python",
   "pygments_lexer": "ipython3",
   "version": "3.7.2"
  }
 },
 "nbformat": 4,
 "nbformat_minor": 2
}
